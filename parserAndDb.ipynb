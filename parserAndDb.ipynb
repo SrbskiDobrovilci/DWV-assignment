{
 "cells": [
  {
   "cell_type": "code",
   "execution_count": null,
   "metadata": {},
   "outputs": [],
   "source": [
    "#pip install bs4\n",
    "#pip install requests"
   ]
  },
  {
   "cell_type": "markdown",
   "metadata": {},
   "source": [
    "Parsing part of project"
   ]
  },
  {
   "cell_type": "code",
   "execution_count": null,
   "metadata": {},
   "outputs": [],
   "source": [
    "from bs4 import BeautifulSoup\n",
    "import requests\n",
    "import json\n",
    "\n",
    "HEADERS = {'User-Agent': 'Mozilla/5.0'}\n",
    "\n",
    "response = requests.get('https://en.wikipedia.org/wiki/List_of_highest-grossing_films', headers= HEADERS)\n",
    "\n",
    "soup = BeautifulSoup(response.content, \"lxml\")\n",
    "\n",
    "table = soup.find('table')\n",
    "films = []\n",
    "\n",
    "\n",
    "for row in table.select('tr')[1:]:\n",
    "    film = {}\n",
    "    if not row.find('a').text in ['RK', 'TS3']:\n",
    "        film['name']  = row.find('a').text\n",
    "        film['href'] = row.find('a')['href'] \n",
    "        \n",
    "    else:\n",
    "        film['name']  = row.find_all('a')[1].text\n",
    "        film['href'] = row.find_all('a')[1]['href'] \n",
    "        \n",
    "        \n",
    "    film['Box Office Revenue']  = row.find_all('td')[2].text[:-1].replace(',', '')\n",
    "    film['Box Office Revenue'] = film['Box Office Revenue'] [film['Box Office Revenue'].find('$'):]\n",
    "    film['year']  = row.find_all('td')[3].text[:-1]   \n",
    "    films.append(film)\n",
    "    \n",
    "\n",
    "for film in films:\n",
    "    url = \"https://en.wikipedia.org\" + film['href']\n",
    "    #print(url)\n",
    "    #print(url)\n",
    "    response = requests.get(url, headers = HEADERS)\n",
    "    soup = BeautifulSoup(response.content, \"lxml\")\n",
    "    author = soup.find('th', text = 'Directed by')\n",
    "    country = soup.find('th', text = 'Country')\n",
    "    country = soup.find('th', text = 'Countries') if country == None else country\n",
    "    table = soup.select_one('table')\n",
    "    for tr in soup.find_all('tr'):\n",
    "        if author in tr:\n",
    "            #print(tr.find('td').find('a').text, tr.find('td').find('ul'))\n",
    "            if (tr.find('td').find('ul') == None):\n",
    "                film['Director'] = tr.find('td').find('a').text\n",
    "            else:\n",
    "                film['Director'] = []\n",
    "                for li in tr.find('td').find('ul').find_all('li'):\n",
    "                    film['Director'].append(li.text)\n",
    "            \n",
    "        if country in tr:\n",
    "            if (tr.find('td').find('ul') == None):\n",
    "                film['Country'] = tr.find('td').text\n",
    "            else:\n",
    "                film['Country'] = []\n",
    "                for li in tr.find('td').find('ul').find_all('li'):\n",
    "                    film['Country'].append(li.text[:-3])\n",
    "            break\n",
    "            \n",
    "films"
   ]
  },
  {
   "cell_type": "markdown",
   "metadata": {},
   "source": [
    "Database part"
   ]
  },
  {
   "cell_type": "code",
   "execution_count": 1,
   "metadata": {},
   "outputs": [
    {
     "name": "stdout",
     "output_type": "stream",
     "text": [
      "Requirement already satisfied: sqlalchemy in c:\\program files\\python310\\lib\\site-packages (2.0.38)\n",
      "Requirement already satisfied: greenlet!=0.4.17 in c:\\program files\\python310\\lib\\site-packages (from sqlalchemy) (3.1.1)\n",
      "Requirement already satisfied: typing-extensions>=4.6.0 in c:\\program files\\python310\\lib\\site-packages (from sqlalchemy) (4.12.2)\n"
     ]
    }
   ],
   "source": [
    "!pip install sqlalchemy"
   ]
  },
  {
   "cell_type": "code",
   "execution_count": 7,
   "metadata": {},
   "outputs": [],
   "source": [
    "from sqlalchemy import create_engine\n",
    "\n",
    "engine = create_engine('sqlite+pysqlite:///:memory:', echo=True)"
   ]
  },
  {
   "cell_type": "code",
   "execution_count": 8,
   "metadata": {},
   "outputs": [
    {
     "name": "stderr",
     "output_type": "stream",
     "text": [
      "C:\\Users\\Nikita\\AppData\\Local\\Temp\\ipykernel_8716\\2750559068.py:3: MovedIn20Warning: The ``declarative_base()`` function is now available as sqlalchemy.orm.declarative_base(). (deprecated since: 2.0) (Background on SQLAlchemy 2.0 at: https://sqlalche.me/e/b8d9)\n",
      "  Base = declarative_base()\n"
     ]
    }
   ],
   "source": [
    "from sqlalchemy.ext.declarative import declarative_base\n",
    "\n",
    "Base = declarative_base()\n",
    "#create a new declarative class that maps to a database table"
   ]
  },
  {
   "cell_type": "code",
   "execution_count": 9,
   "metadata": {},
   "outputs": [],
   "source": [
    "from sqlalchemy import Column, Integer, String\n",
    "\n",
    "class Films(Base):\n",
    "    __tablename__ = 'films'\n",
    "    id = Column(Integer, primary_key=True, autoincrement= True)\n",
    "    title = Column(String, nullable=False)\n",
    "    release_year = Column(Integer)\n",
    "    director = Column(String)\n",
    "    box_office = Column(String)\n",
    "    country = Column(String)\n",
    "    \n",
    "    \n"
   ]
  },
  {
   "cell_type": "code",
   "execution_count": 10,
   "metadata": {},
   "outputs": [
    {
     "name": "stdout",
     "output_type": "stream",
     "text": [
      "2025-02-25 21:43:00,403 INFO sqlalchemy.engine.Engine BEGIN (implicit)\n",
      "2025-02-25 21:43:00,405 INFO sqlalchemy.engine.Engine PRAGMA main.table_info(\"films\")\n",
      "2025-02-25 21:43:00,406 INFO sqlalchemy.engine.Engine [raw sql] ()\n",
      "2025-02-25 21:43:00,408 INFO sqlalchemy.engine.Engine PRAGMA temp.table_info(\"films\")\n",
      "2025-02-25 21:43:00,409 INFO sqlalchemy.engine.Engine [raw sql] ()\n",
      "2025-02-25 21:43:00,411 INFO sqlalchemy.engine.Engine \n",
      "CREATE TABLE films (\n",
      "\tid INTEGER NOT NULL, \n",
      "\ttitle VARCHAR NOT NULL, \n",
      "\trelease_year INTEGER, \n",
      "\tdirector VARCHAR, \n",
      "\tbox_office VARCHAR, \n",
      "\tcountry VARCHAR, \n",
      "\tPRIMARY KEY (id)\n",
      ")\n",
      "\n",
      "\n",
      "2025-02-25 21:43:00,412 INFO sqlalchemy.engine.Engine [no key 0.00064s] ()\n",
      "2025-02-25 21:43:00,413 INFO sqlalchemy.engine.Engine COMMIT\n"
     ]
    }
   ],
   "source": [
    "Base.metadata.create_all(engine)"
   ]
  },
  {
   "cell_type": "code",
   "execution_count": 15,
   "metadata": {},
   "outputs": [],
   "source": [
    "import json\n",
    "\n",
    "def preprocess(films_raw):    \n",
    "    films = []\n",
    "    \n",
    "    for film_raw in films_raw:\n",
    "        film = dict()\n",
    "        film['title'] = film_raw['name']\n",
    "        film['release_year'] = int(film_raw['year'])\n",
    "        if isinstance(film_raw['Director'] ,list):\n",
    "            film['director'] = ', '.join(director for director in film_raw['Director'] ) \n",
    "        else :\n",
    "            film['director'] = film_raw['Director']\n",
    "        film['box_office'] = film_raw['Box Office Revenue'][1:]\n",
    "        if isinstance(film_raw['Country'], list)  :\n",
    "            film['country'] = ', '.join(country for  country in film_raw['Country'])\n",
    "        else:\n",
    "            film['country'] = film_raw['Country']\n",
    "        films.append(film)\n",
    "    \n",
    "    return films\n",
    "\n",
    "\n",
    " "
   ]
  },
  {
   "cell_type": "code",
   "execution_count": 17,
   "metadata": {},
   "outputs": [
    {
     "name": "stdout",
     "output_type": "stream",
     "text": [
      "2025-02-25 21:49:09,692 INFO sqlalchemy.engine.Engine BEGIN (implicit)\n",
      "2025-02-25 21:49:09,695 INFO sqlalchemy.engine.Engine DELETE FROM films\n",
      "2025-02-25 21:49:09,696 INFO sqlalchemy.engine.Engine [cached since 232.8s ago] ()\n",
      "2025-02-25 21:49:09,714 INFO sqlalchemy.engine.Engine INSERT INTO films (title, release_year, director, box_office, country) VALUES (?, ?, ?, ?, ?) RETURNING id\n",
      "2025-02-25 21:49:09,716 INFO sqlalchemy.engine.Engine [generated in 0.00075s (insertmanyvalues) 1/50 (ordered; batch not supported)] ('Avatar', 2009, 'James Cameron', '2923706026', 'United Kingdom, United States')\n",
      "2025-02-25 21:49:09,720 INFO sqlalchemy.engine.Engine INSERT INTO films (title, release_year, director, box_office, country) VALUES (?, ?, ?, ?, ?) RETURNING id\n",
      "2025-02-25 21:49:09,723 INFO sqlalchemy.engine.Engine [insertmanyvalues 2/50 (ordered; batch not supported)] ('Avengers: Endgame', 2019, 'Anthony Russo, Joe Russo', '2797501328', 'United States')\n",
      "2025-02-25 21:49:09,725 INFO sqlalchemy.engine.Engine INSERT INTO films (title, release_year, director, box_office, country) VALUES (?, ?, ?, ?, ?) RETURNING id\n",
      "2025-02-25 21:49:09,729 INFO sqlalchemy.engine.Engine [insertmanyvalues 3/50 (ordered; batch not supported)] ('Avatar: The Way of Water', 2022, 'James Cameron', '2320250281', 'United States')\n",
      "2025-02-25 21:49:09,731 INFO sqlalchemy.engine.Engine INSERT INTO films (title, release_year, director, box_office, country) VALUES (?, ?, ?, ?, ?) RETURNING id\n",
      "2025-02-25 21:49:09,734 INFO sqlalchemy.engine.Engine [insertmanyvalues 4/50 (ordered; batch not supported)] ('Titanic', 1997, 'James Cameron', '2257844554', 'United States')\n",
      "2025-02-25 21:49:09,737 INFO sqlalchemy.engine.Engine INSERT INTO films (title, release_year, director, box_office, country) VALUES (?, ?, ?, ?, ?) RETURNING id\n",
      "2025-02-25 21:49:09,739 INFO sqlalchemy.engine.Engine [insertmanyvalues 5/50 (ordered; batch not supported)] ('Star Wars: The Force Awakens', 2015, 'J. J. Abrams', '2068223624', 'United States')\n",
      "2025-02-25 21:49:09,741 INFO sqlalchemy.engine.Engine INSERT INTO films (title, release_year, director, box_office, country) VALUES (?, ?, ?, ?, ?) RETURNING id\n",
      "2025-02-25 21:49:09,742 INFO sqlalchemy.engine.Engine [insertmanyvalues 6/50 (ordered; batch not supported)] ('Avengers: Infinity War', 2018, 'Anthony Russo, Joe Russo', '2048359754', 'United States')\n",
      "2025-02-25 21:49:09,745 INFO sqlalchemy.engine.Engine INSERT INTO films (title, release_year, director, box_office, country) VALUES (?, ?, ?, ?, ?) RETURNING id\n",
      "2025-02-25 21:49:09,747 INFO sqlalchemy.engine.Engine [insertmanyvalues 7/50 (ordered; batch not supported)] ('Spider-Man: No Way Home', 2021, 'Jon Watts', '1922598800', 'United States')\n",
      "2025-02-25 21:49:09,752 INFO sqlalchemy.engine.Engine INSERT INTO films (title, release_year, director, box_office, country) VALUES (?, ?, ?, ?, ?) RETURNING id\n",
      "2025-02-25 21:49:09,754 INFO sqlalchemy.engine.Engine [insertmanyvalues 8/50 (ordered; batch not supported)] ('Ne Zha 2', 2025, 'Jiaozi', '1902654560', 'China')\n",
      "2025-02-25 21:49:09,757 INFO sqlalchemy.engine.Engine INSERT INTO films (title, release_year, director, box_office, country) VALUES (?, ?, ?, ?, ?) RETURNING id\n",
      "2025-02-25 21:49:09,760 INFO sqlalchemy.engine.Engine [insertmanyvalues 9/50 (ordered; batch not supported)] ('Inside Out 2', 2024, 'Kelsey Mann', '1698863816', 'United States')\n",
      "2025-02-25 21:49:09,763 INFO sqlalchemy.engine.Engine INSERT INTO films (title, release_year, director, box_office, country) VALUES (?, ?, ?, ?, ?) RETURNING id\n",
      "2025-02-25 21:49:09,766 INFO sqlalchemy.engine.Engine [insertmanyvalues 10/50 (ordered; batch not supported)] ('Jurassic World', 2015, 'Colin Trevorrow', '1671537444', 'United States')\n",
      "2025-02-25 21:49:09,768 INFO sqlalchemy.engine.Engine INSERT INTO films (title, release_year, director, box_office, country) VALUES (?, ?, ?, ?, ?) RETURNING id\n",
      "2025-02-25 21:49:09,770 INFO sqlalchemy.engine.Engine [insertmanyvalues 11/50 (ordered; batch not supported)] ('The Lion King', 2019, 'Jon Favreau', '1656943394', 'United States')\n",
      "2025-02-25 21:49:09,773 INFO sqlalchemy.engine.Engine INSERT INTO films (title, release_year, director, box_office, country) VALUES (?, ?, ?, ?, ?) RETURNING id\n",
      "2025-02-25 21:49:09,776 INFO sqlalchemy.engine.Engine [insertmanyvalues 12/50 (ordered; batch not supported)] ('The Avengers', 2012, 'Joss Whedon', '1518815515', 'United States')\n",
      "2025-02-25 21:49:09,779 INFO sqlalchemy.engine.Engine INSERT INTO films (title, release_year, director, box_office, country) VALUES (?, ?, ?, ?, ?) RETURNING id\n",
      "2025-02-25 21:49:09,782 INFO sqlalchemy.engine.Engine [insertmanyvalues 13/50 (ordered; batch not supported)] ('Furious 7', 2015, 'James Wan', '1515341399', 'United States China')\n",
      "2025-02-25 21:49:09,785 INFO sqlalchemy.engine.Engine INSERT INTO films (title, release_year, director, box_office, country) VALUES (?, ?, ?, ?, ?) RETURNING id\n",
      "2025-02-25 21:49:09,787 INFO sqlalchemy.engine.Engine [insertmanyvalues 14/50 (ordered; batch not supported)] ('Top Gun: Maverick', 2022, 'Joseph Kosinski', '1495696292', 'United States')\n",
      "2025-02-25 21:49:09,789 INFO sqlalchemy.engine.Engine INSERT INTO films (title, release_year, director, box_office, country) VALUES (?, ?, ?, ?, ?) RETURNING id\n",
      "2025-02-25 21:49:09,792 INFO sqlalchemy.engine.Engine [insertmanyvalues 15/50 (ordered; batch not supported)] ('Frozen 2', 2019, 'Chris Buck, Jennifer Lee', '1450026933', 'United States')\n",
      "2025-02-25 21:49:09,794 INFO sqlalchemy.engine.Engine INSERT INTO films (title, release_year, director, box_office, country) VALUES (?, ?, ?, ?, ?) RETURNING id\n",
      "2025-02-25 21:49:09,798 INFO sqlalchemy.engine.Engine [insertmanyvalues 16/50 (ordered; batch not supported)] ('Barbie', 2023, 'Greta Gerwig', '1447038421', 'United States[2], United Kingdom')\n",
      "2025-02-25 21:49:09,801 INFO sqlalchemy.engine.Engine INSERT INTO films (title, release_year, director, box_office, country) VALUES (?, ?, ?, ?, ?) RETURNING id\n",
      "2025-02-25 21:49:09,802 INFO sqlalchemy.engine.Engine [insertmanyvalues 17/50 (ordered; batch not supported)] ('Avengers: Age of Ultron', 2015, 'Joss Whedon', '1402809540', 'United States')\n",
      "2025-02-25 21:49:09,804 INFO sqlalchemy.engine.Engine INSERT INTO films (title, release_year, director, box_office, country) VALUES (?, ?, ?, ?, ?) RETURNING id\n",
      "2025-02-25 21:49:09,806 INFO sqlalchemy.engine.Engine [insertmanyvalues 18/50 (ordered; batch not supported)] ('The Super Mario Bros. Movie', 2023, 'Aaron Horvath, Michael Jelenic', '1362566989', 'United States')\n",
      "2025-02-25 21:49:09,809 INFO sqlalchemy.engine.Engine INSERT INTO films (title, release_year, director, box_office, country) VALUES (?, ?, ?, ?, ?) RETURNING id\n",
      "2025-02-25 21:49:09,812 INFO sqlalchemy.engine.Engine [insertmanyvalues 19/50 (ordered; batch not supported)] ('Black Panther', 2018, 'Ryan Coogler', '1347280838', 'United States')\n",
      "2025-02-25 21:49:09,815 INFO sqlalchemy.engine.Engine INSERT INTO films (title, release_year, director, box_office, country) VALUES (?, ?, ?, ?, ?) RETURNING id\n",
      "2025-02-25 21:49:09,816 INFO sqlalchemy.engine.Engine [insertmanyvalues 20/50 (ordered; batch not supported)] ('Harry Potter and the Deathly Hallows – Part 2', 2011, 'David Yates', '1342139727', 'United King, United Sta')\n",
      "2025-02-25 21:49:09,819 INFO sqlalchemy.engine.Engine INSERT INTO films (title, release_year, director, box_office, country) VALUES (?, ?, ?, ?, ?) RETURNING id\n",
      "2025-02-25 21:49:09,821 INFO sqlalchemy.engine.Engine [insertmanyvalues 21/50 (ordered; batch not supported)] ('Deadpool & Wolverine', 2024, 'Shawn Levy', '1338073645', 'United States')\n",
      "2025-02-25 21:49:09,822 INFO sqlalchemy.engine.Engine INSERT INTO films (title, release_year, director, box_office, country) VALUES (?, ?, ?, ?, ?) RETURNING id\n",
      "2025-02-25 21:49:09,824 INFO sqlalchemy.engine.Engine [insertmanyvalues 22/50 (ordered; batch not supported)] ('Star Wars: The Last Jedi', 2017, 'Rian Johnson', '1332539889', 'United States')\n",
      "2025-02-25 21:49:09,826 INFO sqlalchemy.engine.Engine INSERT INTO films (title, release_year, director, box_office, country) VALUES (?, ?, ?, ?, ?) RETURNING id\n",
      "2025-02-25 21:49:09,828 INFO sqlalchemy.engine.Engine [insertmanyvalues 23/50 (ordered; batch not supported)] ('Jurassic World: Fallen Kingdom', 2018, 'J. A. Bayona', '1308473425', 'China, United States')\n",
      "2025-02-25 21:49:09,830 INFO sqlalchemy.engine.Engine INSERT INTO films (title, release_year, director, box_office, country) VALUES (?, ?, ?, ?, ?) RETURNING id\n",
      "2025-02-25 21:49:09,832 INFO sqlalchemy.engine.Engine [insertmanyvalues 24/50 (ordered; batch not supported)] ('Frozen', 2013, 'Chris Buck, Jennifer Lee', '1290000000', 'United States')\n",
      "2025-02-25 21:49:09,835 INFO sqlalchemy.engine.Engine INSERT INTO films (title, release_year, director, box_office, country) VALUES (?, ?, ?, ?, ?) RETURNING id\n",
      "2025-02-25 21:49:09,837 INFO sqlalchemy.engine.Engine [insertmanyvalues 25/50 (ordered; batch not supported)] ('Beauty and the Beast', 2017, 'Bill Condon', '1263521126', 'United States')\n",
      "2025-02-25 21:49:09,841 INFO sqlalchemy.engine.Engine INSERT INTO films (title, release_year, director, box_office, country) VALUES (?, ?, ?, ?, ?) RETURNING id\n",
      "2025-02-25 21:49:09,846 INFO sqlalchemy.engine.Engine [insertmanyvalues 26/50 (ordered; batch not supported)] ('Incredibles 2', 2018, 'Brad Bird', '1242805359', 'United States')\n",
      "2025-02-25 21:49:09,848 INFO sqlalchemy.engine.Engine INSERT INTO films (title, release_year, director, box_office, country) VALUES (?, ?, ?, ?, ?) RETURNING id\n",
      "2025-02-25 21:49:09,850 INFO sqlalchemy.engine.Engine [insertmanyvalues 27/50 (ordered; batch not supported)] ('The Fate of the Furious', 2017, 'F. Gary Gray', '1238764765', 'United Sta, Ch')\n",
      "2025-02-25 21:49:09,852 INFO sqlalchemy.engine.Engine INSERT INTO films (title, release_year, director, box_office, country) VALUES (?, ?, ?, ?, ?) RETURNING id\n",
      "2025-02-25 21:49:09,856 INFO sqlalchemy.engine.Engine [insertmanyvalues 28/50 (ordered; batch not supported)] ('Iron Man 3', 2013, 'Shane Black', '1214811252', 'United States')\n",
      "2025-02-25 21:49:09,858 INFO sqlalchemy.engine.Engine INSERT INTO films (title, release_year, director, box_office, country) VALUES (?, ?, ?, ?, ?) RETURNING id\n",
      "2025-02-25 21:49:09,862 INFO sqlalchemy.engine.Engine [insertmanyvalues 29/50 (ordered; batch not supported)] ('Minions', 2015, 'Pierre Coffin, Kyle Balda', '1159444662', 'United States')\n",
      "2025-02-25 21:49:09,865 INFO sqlalchemy.engine.Engine INSERT INTO films (title, release_year, director, box_office, country) VALUES (?, ?, ?, ?, ?) RETURNING id\n",
      "2025-02-25 21:49:09,867 INFO sqlalchemy.engine.Engine [insertmanyvalues 30/50 (ordered; batch not supported)] ('Captain America: Civil War', 2016, 'Anthony RussoJoe Russo, Anthony Russo, Joe Russo', '1153337496', 'United States')\n",
      "2025-02-25 21:49:09,868 INFO sqlalchemy.engine.Engine INSERT INTO films (title, release_year, director, box_office, country) VALUES (?, ?, ?, ?, ?) RETURNING id\n",
      "2025-02-25 21:49:09,869 INFO sqlalchemy.engine.Engine [insertmanyvalues 31/50 (ordered; batch not supported)] ('Aquaman', 2018, 'James Wan', '1148528393', 'United States')\n",
      "2025-02-25 21:49:09,871 INFO sqlalchemy.engine.Engine INSERT INTO films (title, release_year, director, box_office, country) VALUES (?, ?, ?, ?, ?) RETURNING id\n",
      "2025-02-25 21:49:09,873 INFO sqlalchemy.engine.Engine [insertmanyvalues 32/50 (ordered; batch not supported)] ('The Lord of the Rings: The Return of the King', 2003, 'Peter Jackson', '1147997407', 'New Zealand, Germany, United States')\n",
      "2025-02-25 21:49:09,876 INFO sqlalchemy.engine.Engine INSERT INTO films (title, release_year, director, box_office, country) VALUES (?, ?, ?, ?, ?) RETURNING id\n",
      "2025-02-25 21:49:09,880 INFO sqlalchemy.engine.Engine [insertmanyvalues 33/50 (ordered; batch not supported)] ('Spider-Man: Far From Home', 2019, 'Jon Watts', '1132679685', 'United States')\n",
      "2025-02-25 21:49:09,882 INFO sqlalchemy.engine.Engine INSERT INTO films (title, release_year, director, box_office, country) VALUES (?, ?, ?, ?, ?) RETURNING id\n",
      "2025-02-25 21:49:09,884 INFO sqlalchemy.engine.Engine [insertmanyvalues 34/50 (ordered; batch not supported)] ('Captain Marvel', 2019, 'Anna BodenRyan Fleck', '1128274794', 'United States')\n",
      "2025-02-25 21:49:09,886 INFO sqlalchemy.engine.Engine INSERT INTO films (title, release_year, director, box_office, country) VALUES (?, ?, ?, ?, ?) RETURNING id\n",
      "2025-02-25 21:49:09,888 INFO sqlalchemy.engine.Engine [insertmanyvalues 35/50 (ordered; batch not supported)] ('Transformers: Dark of the Moon', 2011, 'Michael Bay', '1123794079', 'United States')\n",
      "2025-02-25 21:49:09,892 INFO sqlalchemy.engine.Engine INSERT INTO films (title, release_year, director, box_office, country) VALUES (?, ?, ?, ?, ?) RETURNING id\n",
      "2025-02-25 21:49:09,895 INFO sqlalchemy.engine.Engine [insertmanyvalues 36/50 (ordered; batch not supported)] ('Skyfall', 2012, 'Sam Mendes', '1108594137', 'United Kingdom, United States')\n",
      "2025-02-25 21:49:09,897 INFO sqlalchemy.engine.Engine INSERT INTO films (title, release_year, director, box_office, country) VALUES (?, ?, ?, ?, ?) RETURNING id\n",
      "2025-02-25 21:49:09,898 INFO sqlalchemy.engine.Engine [insertmanyvalues 37/50 (ordered; batch not supported)] ('Transformers: Age of Extinction', 2014, 'Michael Bay', '1104054072', 'United States')\n",
      "2025-02-25 21:49:09,900 INFO sqlalchemy.engine.Engine INSERT INTO films (title, release_year, director, box_office, country) VALUES (?, ?, ?, ?, ?) RETURNING id\n",
      "2025-02-25 21:49:09,903 INFO sqlalchemy.engine.Engine [insertmanyvalues 38/50 (ordered; batch not supported)] ('The Dark Knight Rises', 2012, 'Christopher Nolan', '1081169825', 'United States, United Kingdom')\n",
      "2025-02-25 21:49:09,905 INFO sqlalchemy.engine.Engine INSERT INTO films (title, release_year, director, box_office, country) VALUES (?, ?, ?, ?, ?) RETURNING id\n",
      "2025-02-25 21:49:09,906 INFO sqlalchemy.engine.Engine [insertmanyvalues 39/50 (ordered; batch not supported)] ('Joker', 2019, 'Todd Phillips', '1074458282', 'United States')\n",
      "2025-02-25 21:49:09,908 INFO sqlalchemy.engine.Engine INSERT INTO films (title, release_year, director, box_office, country) VALUES (?, ?, ?, ?, ?) RETURNING id\n",
      "2025-02-25 21:49:09,910 INFO sqlalchemy.engine.Engine [insertmanyvalues 40/50 (ordered; batch not supported)] ('Star Wars: The Rise of Skywalker', 2019, 'J. J. Abrams', '1074144248', 'United States')\n",
      "2025-02-25 21:49:09,912 INFO sqlalchemy.engine.Engine INSERT INTO films (title, release_year, director, box_office, country) VALUES (?, ?, ?, ?, ?) RETURNING id\n",
      "2025-02-25 21:49:09,914 INFO sqlalchemy.engine.Engine [insertmanyvalues 41/50 (ordered; batch not supported)] ('Toy Story 4', 2019, 'Josh Cooley', '1073394593', 'United States')\n",
      "2025-02-25 21:49:09,916 INFO sqlalchemy.engine.Engine INSERT INTO films (title, release_year, director, box_office, country) VALUES (?, ?, ?, ?, ?) RETURNING id\n",
      "2025-02-25 21:49:09,918 INFO sqlalchemy.engine.Engine [insertmanyvalues 42/50 (ordered; batch not supported)] ('Toy Story 3', 2010, 'Lee Unkrich', '1066970811', 'United States')\n",
      "2025-02-25 21:49:09,920 INFO sqlalchemy.engine.Engine INSERT INTO films (title, release_year, director, box_office, country) VALUES (?, ?, ?, ?, ?) RETURNING id\n",
      "2025-02-25 21:49:09,922 INFO sqlalchemy.engine.Engine [insertmanyvalues 43/50 (ordered; batch not supported)] (\"Pirates of the Caribbean: Dead Man's Chest\", 2006, 'Gore Verbinski', '1066179747', 'United States')\n",
      "2025-02-25 21:49:09,925 INFO sqlalchemy.engine.Engine INSERT INTO films (title, release_year, director, box_office, country) VALUES (?, ?, ?, ?, ?) RETURNING id\n",
      "2025-02-25 21:49:09,926 INFO sqlalchemy.engine.Engine [insertmanyvalues 44/50 (ordered; batch not supported)] ('Rogue One: A Star Wars Story', 2016, 'Gareth Edwards', '1057420387', 'United States')\n",
      "2025-02-25 21:49:09,929 INFO sqlalchemy.engine.Engine INSERT INTO films (title, release_year, director, box_office, country) VALUES (?, ?, ?, ?, ?) RETURNING id\n",
      "2025-02-25 21:49:09,930 INFO sqlalchemy.engine.Engine [insertmanyvalues 45/50 (ordered; batch not supported)] ('Moana 2', 2024, 'David Derrick Jr.[1], Jason Hand[1], Dana Ledoux Miller[1]', '1053422063', 'United States')\n",
      "2025-02-25 21:49:09,931 INFO sqlalchemy.engine.Engine INSERT INTO films (title, release_year, director, box_office, country) VALUES (?, ?, ?, ?, ?) RETURNING id\n",
      "2025-02-25 21:49:09,933 INFO sqlalchemy.engine.Engine [insertmanyvalues 46/50 (ordered; batch not supported)] ('Aladdin', 2019, 'Guy Ritchie', '1050693953', 'United States')\n",
      "2025-02-25 21:49:09,935 INFO sqlalchemy.engine.Engine INSERT INTO films (title, release_year, director, box_office, country) VALUES (?, ?, ?, ?, ?) RETURNING id\n",
      "2025-02-25 21:49:09,940 INFO sqlalchemy.engine.Engine [insertmanyvalues 47/50 (ordered; batch not supported)] ('Star Wars: Episode I – The Phantom Menace', 1999, 'George Lucas', '1046515409', 'United States')\n",
      "2025-02-25 21:49:09,942 INFO sqlalchemy.engine.Engine INSERT INTO films (title, release_year, director, box_office, country) VALUES (?, ?, ?, ?, ?) RETURNING id\n",
      "2025-02-25 21:49:09,945 INFO sqlalchemy.engine.Engine [insertmanyvalues 48/50 (ordered; batch not supported)] ('Pirates of the Caribbean: On Stranger Tides', 2011, 'Rob Marshall', '1045713802', 'United States')\n",
      "2025-02-25 21:49:09,947 INFO sqlalchemy.engine.Engine INSERT INTO films (title, release_year, director, box_office, country) VALUES (?, ?, ?, ?, ?) RETURNING id\n",
      "2025-02-25 21:49:09,948 INFO sqlalchemy.engine.Engine [insertmanyvalues 49/50 (ordered; batch not supported)] ('Jurassic Park', 1993, 'Steven Spielberg', '1037535230', 'United States')\n",
      "2025-02-25 21:49:09,951 INFO sqlalchemy.engine.Engine INSERT INTO films (title, release_year, director, box_office, country) VALUES (?, ?, ?, ?, ?) RETURNING id\n",
      "2025-02-25 21:49:09,954 INFO sqlalchemy.engine.Engine [insertmanyvalues 50/50 (ordered; batch not supported)] ('Despicable Me 3', 2017, 'Pierre Coffin, Kyle Balda', '1034800131', 'United States')\n",
      "2025-02-25 21:49:10,004 INFO sqlalchemy.engine.Engine COMMIT\n"
     ]
    }
   ],
   "source": [
    "'''\n",
    "file = open('filmsFinal.json', 'w')\n",
    "json.dump({'films' : films})    \n",
    "films_rows = [Films(**f) for f in films]\n",
    "    \n",
    "json.dump(films_rows, file)\n",
    "file.close()\n",
    "f1.close()\n",
    "'''  \n",
    "\n",
    "from  sqlalchemy.orm import sessionmaker\n",
    "Session = sessionmaker(bind=engine)\n",
    "session = Session()\n",
    "\n",
    "session.query(Films).delete()\n",
    "\n",
    "films_rows = preprocess(films)\n",
    "films_rows = [Films(**f) for f in films_rows ]\n",
    "session.add_all(films_rows)\n",
    "\n",
    "session.commit()"
   ]
  },
  {
   "cell_type": "code",
   "execution_count": 23,
   "metadata": {},
   "outputs": [
    {
     "name": "stderr",
     "output_type": "stream",
     "text": [
      "C:\\Users\\Nikita\\AppData\\Local\\Temp\\ipykernel_8716\\2290887910.py:2: LegacyAPIWarning: The Query.get() method is considered legacy as of the 1.x series of SQLAlchemy and becomes a legacy construct in 2.0. The method is now available as Session.get() (deprecated since: 2.0) (Background on SQLAlchemy 2.0 at: https://sqlalche.me/e/b8d9)\n",
      "  films.get(2).__dict__\n"
     ]
    },
    {
     "data": {
      "text/plain": [
       "{'_sa_instance_state': <sqlalchemy.orm.state.InstanceState at 0x216e920e680>,\n",
       " 'director': 'Anthony Russo, Joe Russo',\n",
       " 'id': 2,\n",
       " 'country': 'United States',\n",
       " 'release_year': 2019,\n",
       " 'box_office': '2797501328',\n",
       " 'title': 'Avengers: Endgame'}"
      ]
     },
     "execution_count": 23,
     "metadata": {},
     "output_type": "execute_result"
    }
   ],
   "source": [
    "films = session.query(Films)"
   ]
  },
  {
   "cell_type": "code",
   "execution_count": 25,
   "metadata": {},
   "outputs": [
    {
     "name": "stdout",
     "output_type": "stream",
     "text": [
      "2025-02-25 21:59:46,391 INFO sqlalchemy.engine.Engine SELECT films.id AS films_id, films.title AS films_title, films.release_year AS films_release_year, films.director AS films_director, films.box_office AS films_box_office, films.country AS films_country \n",
      "FROM films\n",
      "2025-02-25 21:59:46,393 INFO sqlalchemy.engine.Engine [cached since 548.3s ago] ()\n"
     ]
    }
   ],
   "source": [
    "res = {'films' : []}\n",
    "for f in films:\n",
    "    f = f.__dict__\n",
    "    res['films'].append({\n",
    "        'director' : f['director'],\n",
    "        'country' : f['country'],\n",
    "        'release_year' : f['release_year'],\n",
    "        'box_office' : f['box_office'],\n",
    "        'title' : f['title']\n",
    "        })\n"
   ]
  },
  {
   "cell_type": "code",
   "execution_count": null,
   "metadata": {},
   "outputs": [],
   "source": [
    "f = open('filmsFinal.json', 'w')\n",
    "\n",
    "json.dump()"
   ]
  }
 ],
 "metadata": {
  "kernelspec": {
   "display_name": "Python 3",
   "language": "python",
   "name": "python3"
  },
  "language_info": {
   "codemirror_mode": {
    "name": "ipython",
    "version": 3
   },
   "file_extension": ".py",
   "mimetype": "text/x-python",
   "name": "python",
   "nbconvert_exporter": "python",
   "pygments_lexer": "ipython3",
   "version": "3.10.0"
  },
  "orig_nbformat": 4
 },
 "nbformat": 4,
 "nbformat_minor": 2
}
